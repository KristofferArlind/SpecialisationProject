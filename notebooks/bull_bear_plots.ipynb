{
 "cells": [
  {
   "cell_type": "code",
   "execution_count": null,
   "metadata": {},
   "outputs": [],
   "source": [
    "import pandas as pd\n",
    "import matplotlib.dates as mdates\n",
    "pd.set_option('display.max_columns', 100)"
   ]
  },
  {
   "cell_type": "code",
   "execution_count": null,
   "metadata": {},
   "outputs": [],
   "source": [
    "bear_weeks = pd.read_csv(\"details/bear_weeks.csv\", delimiter=\";\", parse_dates=[\"monday_start\", \"monday_end\"], date_format=\"%d.%m.%Y\")\n",
    "bull_weeks = pd.read_csv(\"details/bull_weeks.csv\", delimiter=\";\", parse_dates=[\"monday_start\", \"monday_end\"], date_format=\"%d.%m.%Y\")"
   ]
  },
  {
   "cell_type": "code",
   "execution_count": null,
   "metadata": {},
   "outputs": [],
   "source": [
    "bear_weeks[\"monday_start\"] = pd.to_datetime(bear_weeks[\"monday_start\"], format=\"%d.%m.%Y\")\n",
    "bear_weeks[\"monday_end\"] = pd.to_datetime(bear_weeks[\"monday_end\"], format=\"%d.%m.%Y\")\n",
    "\n",
    "#Offset to correspond with friday instead of monday\n",
    "bear_weeks[\"monday_start\"] = bear_weeks[\"monday_start\"] + pd.DateOffset(days=4)\n",
    "bear_weeks[\"monday_end\"] = bear_weeks[\"monday_end\"] + pd.DateOffset(days=4)\n",
    "\n",
    "bull_weeks[\"monday_start\"] = pd.to_datetime(bull_weeks[\"monday_start\"], format=\"%d.%m.%Y\")\n",
    "bull_weeks[\"monday_end\"] = pd.to_datetime(bull_weeks[\"monday_end\"], format=\"%d.%m.%Y\")\n",
    "\n",
    "#Offset to correspond with friday instead of monday\n",
    "bull_weeks[\"monday_start\"] = bull_weeks[\"monday_start\"] + pd.DateOffset(days=4)\n",
    "bull_weeks[\"monday_end\"] = bull_weeks[\"monday_end\"] + pd.DateOffset(days=4)"
   ]
  },
  {
   "cell_type": "code",
   "execution_count": null,
   "metadata": {},
   "outputs": [],
   "source": [
    "crsp_index = pd.read_csv(\"data/crsp_index.zip\")\n",
    "crsp_index.rename(columns={\"DlyCalDt\": \"date\", \"sprtrn\": \"sp500_return\"}, inplace=True)\n",
    "crsp_index = crsp_index[[\"date\", \"sp500_return\"]]\n",
    "crsp_index[\"date\"] = pd.to_datetime(crsp_index[\"date\"])\n",
    "crsp_index.sort_values(by=\"date\", inplace=True)\n",
    "crsp_index.reset_index(drop=True, inplace=True)\n",
    "crsp_index = pd.concat([pd.DataFrame({\"date\": [pd.to_datetime(\"1999-12-31\")], \"sp500_return\": [0]}), crsp_index])\n",
    "crsp_index[\"total_return\"] = (crsp_index[\"sp500_return\"] + 1).cumprod() -1"
   ]
  },
  {
   "cell_type": "code",
   "execution_count": null,
   "metadata": {},
   "outputs": [],
   "source": [
    "china_index = pd.read_csv(\"data/wrds_index_china.zip\")\n",
    "china_index.rename(columns={\"portret\": \"china_return\"}, inplace=True)\n",
    "china_index = china_index[[\"date\", \"china_return\"]]\n",
    "china_index[\"date\"] = pd.to_datetime(china_index[\"date\"])\n",
    "china_index.sort_values(by=\"date\", inplace=True)\n",
    "china_index.reset_index(drop=True, inplace=True)\n",
    "china_index = pd.concat([pd.DataFrame({\"date\": [pd.to_datetime(\"1999-12-31\")], \"china_return\": [0]}), china_index])\n",
    "china_index[\"total_return\"] = (china_index[\"china_return\"] + 1).cumprod() -1"
   ]
  },
  {
   "cell_type": "code",
   "execution_count": null,
   "metadata": {},
   "outputs": [],
   "source": [
    "germany_index = pd.read_csv(\"data/wrds_index_germany.zip\")\n",
    "germany_index.rename(columns={\"portret\": \"germany_return\"}, inplace=True)\n",
    "germany_index = germany_index[[\"date\", \"germany_return\"]]\n",
    "germany_index[\"date\"] = pd.to_datetime(germany_index[\"date\"])\n",
    "germany_index.sort_values(by=\"date\", inplace=True)\n",
    "germany_index.reset_index(drop=True, inplace=True)\n",
    "germany_index = pd.concat([pd.DataFrame({\"date\": [pd.to_datetime(\"1999-12-31\")], \"germany_return\": [0]}), germany_index])\n",
    "germany_index[\"total_return\"] = (germany_index[\"germany_return\"] + 1).cumprod() -1"
   ]
  },
  {
   "cell_type": "code",
   "execution_count": null,
   "metadata": {},
   "outputs": [],
   "source": [
    "test_data = pd.read_parquet(\"data/xgboost_Global_2023-12-08-15-27-52_detached_bull_trained_no_validation_min_vol_5_1000000_min_mcap_percentile_na_0.6_min_mcap_percentile_global_0.65/results.parquet\", engine=\"pyarrow\")"
   ]
  },
  {
   "cell_type": "code",
   "execution_count": null,
   "metadata": {},
   "outputs": [],
   "source": [
    "min_market_cap_percentile_na = 0.65\n",
    "min_market_cap_percentile_global = 0.6\n",
    "volume_usd_5_min  = 1000000"
   ]
  },
  {
   "cell_type": "code",
   "execution_count": null,
   "metadata": {},
   "outputs": [],
   "source": [
    "na_data = test_data[test_data[\"currency\"].isin([\"USD\", \"CAD\"])]\n",
    "na_data = na_data.groupby(\"date\").apply(lambda x: x[x[\"market_cap_usd\"] > x[\"market_cap_usd\"].quantile(min_market_cap_percentile_na)]).reset_index(drop=True)\n",
    "na_data = na_data[na_data[\"volume_usd_5\"] > volume_usd_5_min]\n",
    "na_data_returns = na_data.groupby([\"date\"])[\"trr_5\"].mean().reset_index()\n",
    "na_data_returns[\"trr_5\"] = (1 + na_data_returns[\"trr_5\"]).pow(5) - 1\n",
    "na_data_returns[\"total_return\"] = (na_data_returns[\"trr_5\"] + 1).cumprod() - 1"
   ]
  },
  {
   "cell_type": "code",
   "execution_count": null,
   "metadata": {},
   "outputs": [],
   "source": [
    "row_data = test_data[~test_data[\"currency\"].isin([\"USD\", \"CAD\"])]\n",
    "row_data = row_data.groupby(\"date\").apply(lambda x: x[x[\"market_cap_usd\"] > x[\"market_cap_usd\"].quantile(min_market_cap_percentile_global)]).reset_index(drop=True)\n",
    "row_data = row_data[row_data[\"volume_usd_5\"] > volume_usd_5_min]\n",
    "row_data_returns = row_data.groupby([\"date\"])[\"trr_5\"].mean().reset_index()\n",
    "row_data_returns[\"trr_5\"] = (1 + row_data_returns[\"trr_5\"]).pow(5) - 1\n",
    "row_data_returns[\"total_return\"] = (row_data_returns[\"trr_5\"] + 1).cumprod() - 1"
   ]
  },
  {
   "cell_type": "code",
   "execution_count": null,
   "metadata": {},
   "outputs": [],
   "source": [
    "#Training data plot:\n",
    "plt = china_index.plot(x=\"date\", y=\"total_return\", figsize=(20, 10), label=\"China Index\", color=\"tab:purple\")\n",
    "\n",
    "plt.plot(germany_index[\"date\"], germany_index[\"total_return\"], label=\"Germany Index\", color=\"tab:orange\")\n",
    "plt.plot(crsp_index[\"date\"], crsp_index[\"total_return\"], label=\"S&P 500\", color=\"tab:blue\")\n",
    "\n",
    "alpha = 0.4\n",
    "\n",
    "plt.axvspan(bull_weeks.iloc[0][\"monday_start\"], bull_weeks.iloc[0][\"monday_end\"], facecolor='g', alpha=alpha, label=\"Bull Period\")\n",
    "plt.axvspan(bear_weeks.iloc[0][\"monday_start\"], bear_weeks.iloc[0][\"monday_end\"], facecolor='r', alpha=alpha, label=\"Bear Period\")\n",
    "\n",
    "for index, row in bear_weeks.iterrows():\n",
    "    if index == 0:\n",
    "        continue\n",
    "    plt.axvspan(row[\"monday_start\"], row[\"monday_end\"], facecolor='r', alpha=alpha)\n",
    "\n",
    "for index, row in bull_weeks.iterrows():\n",
    "    if index == 0:\n",
    "        continue\n",
    "    plt.axvspan(row[\"monday_start\"], row[\"monday_end\"], facecolor='g', alpha=alpha)\n",
    "\n",
    "plt.tick_params(axis='both', which='major', labelsize=16)\n",
    "\n",
    "plt.legend(fontsize=20)\n",
    "plt.set_xlabel(\"Date\", fontsize=20)\n",
    "plt.set_ylabel(\"Index average return\", fontsize=20)\n",
    "plt.set_xlim(pd.Timestamp('2000-01-01'), pd.Timestamp('2023-09-01'))\n",
    "\n",
    "\n",
    "plt.xaxis.set_major_locator(mdates.YearLocator())\n",
    "\n",
    "plt.set_xlabel(\"\")\n",
    "\n",
    "\n",
    "\n",
    "vals = plt.get_yticks()\n",
    "plt.set_yticklabels(['+{:,.2%}'.format(abs(x)) if x > 0 else '{:,.2%}'.format(x) if x == 0 else '-{:,.2%}'.format(abs(x)) for x in vals])\n",
    "\n",
    "\n",
    "plt.lines[0].set_linewidth(2)\n",
    "plt.lines[1].set_linewidth(2)\n",
    "plt.lines[2].set_linewidth(2)\n",
    "plt.grid(True, which=\"both\", axis=\"both\")\n",
    "\n",
    "#plt.set_xlim(pd.Timestamp('2000-01-01'), pd.Timestamp('2011-12-31'))\n",
    "plt.set_xlim(pd.Timestamp('2012-01-01'), pd.Timestamp('2021-12-31'))\n",
    "plt.legend(fontsize=20)\n",
    "\n",
    "\n",
    "#plt.figure.savefig(\"figures/BullAndBearPeriodsAfter2012.pdf\", dpi=3000, bbox_inches='tight')\n"
   ]
  },
  {
   "cell_type": "code",
   "execution_count": null,
   "metadata": {},
   "outputs": [],
   "source": [
    "#Test data plot:\n",
    "plt = na_data_returns.plot(x=\"date\", y=\"total_return\", figsize=(20, 10), label=\"NA Average Returns\", color=\"tab:purple\")\n",
    "plt.plot(row_data_returns[\"date\"], row_data_returns[\"total_return\"], label=\"ROW Average Returns\", color=\"tab:blue\")\n",
    "\n",
    "alpha = 0.4\n",
    "\n",
    "plt.axvspan(bull_weeks.iloc[0][\"monday_start\"], bull_weeks.iloc[0][\"monday_end\"], facecolor='g', alpha=alpha, label=\"Bull Period\")\n",
    "plt.axvspan(bear_weeks.iloc[0][\"monday_start\"], bear_weeks.iloc[0][\"monday_end\"], facecolor='r', alpha=alpha, label=\"Bear Period\")\n",
    "\n",
    "for index, row in bear_weeks.iterrows():\n",
    "    if index == 0:\n",
    "        continue\n",
    "    plt.axvspan(row[\"monday_start\"], row[\"monday_end\"], facecolor='r', alpha=alpha)\n",
    "\n",
    "for index, row in bull_weeks.iterrows():\n",
    "    if index == 0:\n",
    "        continue\n",
    "    plt.axvspan(row[\"monday_start\"], row[\"monday_end\"], facecolor='g', alpha=alpha)\n",
    "\n",
    "plt.tick_params(axis='both', which='major', labelsize=16)\n",
    "\n",
    "plt.legend(fontsize=20)\n",
    "plt.set_xlabel(\"Date\", fontsize=20)\n",
    "plt.set_xlim(pd.Timestamp('2000-01-01'), pd.Timestamp('2023-09-01'))\n",
    "\n",
    "\n",
    "plt.xaxis.set_major_locator(mdates.MonthLocator(interval=2))\n",
    "plt.xaxis.set_minor_locator(mdates.MonthLocator(interval=1))\n",
    "plt.xaxis.set_major_formatter(mdates.DateFormatter('%b. %y'))\n",
    "\n",
    "plt.set_xlabel(\"\")\n",
    "plt.set_ylabel(\"\")\n",
    "\n",
    "plt.axvline(x=pd.Timestamp('2022-10-14'), color=\"tab:orange\", linestyle=\"-\", linewidth=7, label=\"Rough bull/bear split\")\n",
    "\n",
    "vals = plt.get_yticks()\n",
    "plt.set_yticklabels(['+{:,.2%}'.format(abs(x)) if x > 0 else '{:,.2%}'.format(x) if x == 0 else '-{:,.2%}'.format(abs(x)) for x in vals])\n",
    "\n",
    "plt.lines[0].set_linewidth(2)\n",
    "plt.lines[1].set_linewidth(2)\n",
    "\n",
    "plt.grid(True, which=\"both\", axis=\"both\")\n",
    "plt.set_xlim(pd.Timestamp('2022-01-01'), pd.Timestamp('2023-08-30'))\n",
    "\n",
    "plt.legend(fontsize=20)\n",
    "\n",
    "\n",
    "#plt.figure.savefig(\"figures/BullAndBearPeriodsTesting.pdf\", dpi=3000, bbox_inches='tight')"
   ]
  }
 ],
 "metadata": {
  "kernelspec": {
   "display_name": "Python 3",
   "language": "python",
   "name": "python3"
  },
  "language_info": {
   "codemirror_mode": {
    "name": "ipython",
    "version": 3
   },
   "file_extension": ".py",
   "mimetype": "text/x-python",
   "name": "python",
   "nbconvert_exporter": "python",
   "pygments_lexer": "ipython3",
   "version": "3.11.5"
  },
  "orig_nbformat": 4
 },
 "nbformat": 4,
 "nbformat_minor": 2
}
