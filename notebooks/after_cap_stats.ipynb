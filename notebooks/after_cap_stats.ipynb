{
 "cells": [
  {
   "cell_type": "code",
   "execution_count": null,
   "id": "8e12fe99",
   "metadata": {},
   "outputs": [],
   "source": [
    "import pandas as pd\n",
    "import numpy as np\n",
    "import os\n",
    "import matplotlib.pyplot as plt\n",
    "from scripts import utils\n",
    "from matplotlib.ticker import MultipleLocator"
   ]
  },
  {
   "cell_type": "code",
   "execution_count": null,
   "id": "57aedaeb",
   "metadata": {},
   "outputs": [],
   "source": [
    "os.chdir(\"../../work/ktarlind\")"
   ]
  },
  {
   "cell_type": "code",
   "execution_count": null,
   "id": "a3933e35",
   "metadata": {},
   "outputs": [],
   "source": [
    "min_market_cap_percentile_na = 0.6\n",
    "min_market_cap_percentile_global = 0.65\n",
    "volume_usd_5_min = 1000000"
   ]
  },
  {
   "cell_type": "code",
   "execution_count": null,
   "id": "e5bbd377",
   "metadata": {},
   "outputs": [],
   "source": [
    "data_mc_stats = pd.DataFrame(data=[], columns=[\"avg_mc\", \"bot_5_pct_mc\", \"avg_mc_cap\", \"min_mc_cap\", \"bot_5_pct_mc_cap\", \n",
    "                                               \"avg_mc_g\", \"bot_5_pct_mc_g\", \"avg_mc_cap_g\", \"min_mc_cap_g\", \"bot_5_pct_mc_cap_g\"])\n",
    "data_n_stats = pd.DataFrame(data=[], columns=[\"num\", \"num_cap_100\", \"num_cap_50\", \"num_cap_20\",\n",
    "                                             \"num_g\", \"num_cap_100_g\", \"num_cap_50_g\", \"num_cap_20_g\"])"
   ]
  },
  {
   "cell_type": "code",
   "execution_count": null,
   "id": "6baa45b3",
   "metadata": {},
   "outputs": [],
   "source": [
    "for year in range(2001,2024):\n",
    "    na_data = pd.read_parquet(f'data/na_data_{year}only_processed.parquet', engine='pyarrow')\n",
    "    avg_mc = na_data[\"market_cap_usd\"].median()\n",
    "    bot_5_pct_mc = na_data[\"market_cap_usd\"].quantile(0.05).mean()\n",
    "    num = na_data[\"gvkey\"].value_counts()[na_data[\"gvkey\"].value_counts() >= 50].shape[0]\n",
    "    \n",
    "    na_data_capped = na_data.groupby(\"date\").apply(lambda x: x[x[\"market_cap_usd\"] > x[\"market_cap_usd\"].quantile(min_market_cap_percentile_na)]).reset_index(drop=True)\n",
    "    na_data_capped = na_data_capped[na_data_capped[\"volume_usd_5\"] > volume_usd_5_min]\n",
    "    avg_mc_cap = na_data_capped[\"market_cap_usd\"].median()\n",
    "    min_mc_cap = na_data_capped.groupby(\"date\")[\"market_cap_usd\"].min().median()\n",
    "    bot_5_pct_mc_cap = na_data_capped[\"market_cap_usd\"].quantile(0.05).mean()\n",
    "    num_cap_100 = na_data_capped[\"gvkey\"].value_counts()[na_data_capped[\"gvkey\"].value_counts() >= 100].shape[0]\n",
    "    num_cap_50 = na_data_capped[\"gvkey\"].value_counts()[na_data_capped[\"gvkey\"].value_counts() >= 50].shape[0]\n",
    "    num_cap_20 = na_data_capped[\"gvkey\"].value_counts()[na_data_capped[\"gvkey\"].value_counts() >= 20].shape[0]\n",
    "    \n",
    "    global_data = pd.read_parquet(f'data/global_data_{year}only_processed.parquet', engine='pyarrow')\n",
    "    avg_mc_g = global_data[\"market_cap_usd\"].median()\n",
    "    bot_5_pct_mc_g = na_data[\"market_cap_usd\"].quantile(0.05).mean()\n",
    "    num_g = global_data[\"gvkey\"].value_counts()[global_data[\"gvkey\"].value_counts() >= 50].shape[0]\n",
    "    \n",
    "    global_data_capped = global_data.groupby(\"date\").apply(lambda x: x[x[\"market_cap_usd\"] > x[\"market_cap_usd\"].quantile(min_market_cap_percentile_global)]).reset_index(drop=True)\n",
    "    global_data_capped = global_data_capped[global_data_capped[\"volume_usd_5\"] > volume_usd_5_min]\n",
    "    avg_mc_cap_g = global_data_capped[\"market_cap_usd\"].median()\n",
    "    min_mc_cap_g = global_data_capped.groupby(\"date\")[\"market_cap_usd\"].min().median()\n",
    "    num_cap_100_g = global_data_capped[\"gvkey\"].value_counts()[global_data_capped[\"gvkey\"].value_counts() >= 100].shape[0]\n",
    "    num_cap_50_g = global_data_capped[\"gvkey\"].value_counts()[global_data_capped[\"gvkey\"].value_counts() >= 50].shape[0]\n",
    "    num_cap_20_g = global_data_capped[\"gvkey\"].value_counts()[global_data_capped[\"gvkey\"].value_counts() >= 20].shape[0]\n",
    "    \n",
    "    data_mc_stats.loc[year] = [avg_mc, bot_5_pct_mc, avg_mc_cap, min_mc_cap, bot_5_pct_mc_cap,\n",
    "                              avg_mc_g, bot_5_pct_mc_g, avg_mc_cap_g, min_mc_cap_g, bot_5_pct_mc_cap_g]\n",
    "    data_n_stats.loc[year] = [num, num_cap_100, num_cap_50, num_cap_20,\n",
    "                             num_g, num_cap_100_g, num_cap_50_g, num_cap_20_g]\n",
    "    \n"
   ]
  },
  {
   "cell_type": "code",
   "execution_count": null,
   "id": "f0dd21b4",
   "metadata": {},
   "outputs": [],
   "source": [
    "data_n_stats[\"num_cap_tot_100\"] = data_n_stats[\"num_cap_100\"] + data_n_stats[\"num_cap_100_g\"]\n",
    "data_n_stats[\"num_cap_tot_50\"] = data_n_stats[\"num_cap_50\"] + data_n_stats[\"num_cap_50_g\"]\n",
    "data_n_stats[\"num_cap_tot_20\"] = data_n_stats[\"num_cap_20\"] + data_n_stats[\"num_cap_20_g\"]"
   ]
  },
  {
   "cell_type": "code",
   "execution_count": null,
   "id": "ea0b3921",
   "metadata": {},
   "outputs": [],
   "source": [
    "mc_plot = data_mc_stats[[\"avg_mc_cap\", \"avg_mc_cap_g\", \"min_mc_cap\", \"min_mc_cap_g\"]].plot(figsize=(18, 8), logy=False)\n",
    "mc_plot.lines[0].set(label=\"Median, NA data\", linewidth=3)\n",
    "mc_plot.lines[1].set(label=\"Median, ROW data\", linewidth=3)\n",
    "mc_plot.lines[2].set(label=\"Median of daily min, NA data\", linewidth=3)\n",
    "mc_plot.lines[3].set(label=\"Median of daily min, ROW data\", linewidth=3)\n",
    "vals = mc_plot.get_yticks()\n",
    "mc_plot.set_yticklabels([(str(int(x / 1000000)) + \" M USD\") for x in vals])\n",
    "\n",
    "mc_plot.xaxis.set_minor_locator(MultipleLocator(1))\n",
    "plt.grid()\n",
    "mc_plot.set_xlabel(\"Year\", fontsize=16)\n",
    "mc_plot.set_ylabel(\"Market Cap\", fontsize=16)\n",
    "mc_plot.tick_params(axis='both', which='major', labelsize=14)\n",
    "mc_plot.legend(fontsize=16)\n",
    "mc_plot.set_xlim(2000, 2024)\n",
    "#mc_plot.figure.savefig(\"figures/MarketCapData.pdf\", dpi=1000, bbox_inches='tight')"
   ]
  },
  {
   "cell_type": "code",
   "execution_count": null,
   "id": "9f7bf559",
   "metadata": {},
   "outputs": [],
   "source": [
    "mc_plot = data_n_stats[[\"num_cap_tot_100\", \n",
    "                        #\"num_cap_tot_50\", \n",
    "                        \"num_cap_tot_20\", \n",
    "                        \"num_cap_100_g\", \n",
    "                        #\"num_cap_50\", \n",
    "                        \"num_cap_20_g\", \n",
    "                        \"num_cap_100\", \n",
    "                        #\"num_cap_50_g\", \n",
    "                        \"num_cap_20\"]].plot(figsize=(18, 8), logy=False)\n",
    "mc_plot.lines[0].set(label=\"Global data (min. 100 days)\", linewidth=3)\n",
    "mc_plot.lines[1].set(label=\"Global data (min. 20 days)\", linewidth=3)\n",
    "mc_plot.lines[2].set(label=\"ROW data (min. 100 days)\", linewidth=3)\n",
    "mc_plot.lines[3].set(label=\"ROW data (min. 20 days)\", linewidth=3)\n",
    "mc_plot.lines[4].set(label=\"NA data (min. 100 days)\", linewidth=3)\n",
    "mc_plot.lines[5].set(label=\"NA data (min. 20 days)\", linewidth=3)\n",
    "\n",
    "\n",
    "mc_plot.xaxis.set_minor_locator(MultipleLocator(1))\n",
    "plt.grid()\n",
    "mc_plot.set_xlabel(\"Year\", fontsize=16)\n",
    "mc_plot.set_ylabel(\"Unique securities\", fontsize=16)\n",
    "mc_plot.tick_params(axis='both', which='major', labelsize=14)\n",
    "mc_plot.legend(fontsize=16)\n",
    "mc_plot.set_ylim(1000, 14000)\n",
    "#mc_plot.figure.savefig(\"figures/MarketCapDataN.pdf\", dpi=1000, bbox_inches='tight')"
   ]
  }
 ],
 "metadata": {
  "kernelspec": {
   "display_name": "Python 3 (ipykernel)",
   "language": "python",
   "name": "python3"
  },
  "language_info": {
   "codemirror_mode": {
    "name": "ipython",
    "version": 3
   },
   "file_extension": ".py",
   "mimetype": "text/x-python",
   "name": "python",
   "nbconvert_exporter": "python",
   "pygments_lexer": "ipython3",
   "version": "3.9.12"
  }
 },
 "nbformat": 4,
 "nbformat_minor": 5
}
