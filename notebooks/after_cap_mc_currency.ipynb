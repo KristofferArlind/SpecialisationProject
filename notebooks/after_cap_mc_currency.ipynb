{
 "cells": [
  {
   "cell_type": "code",
   "execution_count": null,
   "metadata": {},
   "outputs": [],
   "source": [
    "import pandas as pd\n",
    "import numpy as np\n",
    "pd.set_option('display.max_columns', 100)\n",
    "import sklearn.metrics as metrics"
   ]
  },
  {
   "cell_type": "code",
   "execution_count": null,
   "metadata": {},
   "outputs": [],
   "source": [
    "global_data = pd.read_parquet('data/global_data_2023only_processed.parquet', engine='pyarrow')\n",
    "na_data = pd.read_parquet('data/na_data_2023only_processed.parquet', engine='pyarrow')\n",
    "na_data[\"date\"] = pd.to_datetime(na_data[\"date\"], format='%Y-%m-%d')\n",
    "global_data[\"date\"] = pd.to_datetime(global_data[\"date\"], format='%Y-%m-%d')\n",
    "\n",
    "na_data = na_data[na_data[\"date\"] <= pd.Timestamp(\"2023-08-30\")]\n",
    "global_data = global_data[global_data[\"date\"] <= pd.Timestamp(\"2023-08-30\")]\n",
    "merged_data = pd.merge(global_data, na_data[[\"date\", \"gvkey\", \"volume_usd_1\"]], on=['date', 'gvkey'], how='left', suffixes=('', '_na'))\n",
    "merged_data[\"volume_usd_1_na\"] = merged_data[\"volume_usd_1_na\"].fillna(0)\n",
    "\n",
    "merged_data['volume_usd_1'] = merged_data['volume_usd_1_na'] + merged_data['volume_usd_1']\n",
    "merged_data.drop(labels=\"volume_usd_1_na\", axis=\"columns\", inplace=True)\n",
    "\n",
    "na_global_data = pd.concat([merged_data, na_data], ignore_index=True)\n",
    "na_global_data.drop_duplicates([\"date\", \"gvkey\"], keep=\"first\", inplace=True)\n",
    "\n",
    "na_global_data.sort_values([\"date\", \"gvkey\"], inplace=True)\n",
    "\n",
    "na_global_data_2023 = na_global_data\n",
    "\n",
    "na_data_2023 = na_data\n",
    "global_data_2023 = global_data"
   ]
  },
  {
   "cell_type": "code",
   "execution_count": null,
   "metadata": {},
   "outputs": [],
   "source": [
    "market_cap_cutoff_quantile = 0.65"
   ]
  },
  {
   "cell_type": "code",
   "execution_count": null,
   "metadata": {},
   "outputs": [],
   "source": [
    "volume_usd_5_min = 1000000"
   ]
  },
  {
   "cell_type": "code",
   "execution_count": null,
   "metadata": {},
   "outputs": [],
   "source": [
    "print(\"Global 2023 mean market cap: \", global_data_2023[\"market_cap_usd\"].mean())\n",
    "print(\"Global 2023 min market cap: \", global_data_2023[\"market_cap_usd\"].min())\n",
    "print(\"Global 2023 mean bottom 10% market cap: \", global_data_2023[\"market_cap_usd\"].quantile(0.05).mean())\n",
    "print(\"Unique gvkeys: \", len(global_data_2023[\"gvkey\"].unique()))\n",
    "print(\"Unique gvkeys with >= 100 rows: \", global_data_2023[\"gvkey\"].value_counts()[global_data_2023[\"gvkey\"].value_counts() >= 100].shape[0])\n",
    "global_data_2023_capped = global_data_2023.groupby(\"date\").apply(lambda x: x[x[\"market_cap_usd\"] > x[\"market_cap_usd\"].quantile(market_cap_cutoff_quantile)]).reset_index(drop=True)\n",
    "global_data_2023_capped = global_data_2023_capped[global_data_2023_capped[\"volume_usd_5\"] > volume_usd_5_min]\n",
    "#na_global_data_2002_capped = na_global_data_2002.groupby(\"date\").apply(lambda x: x.nlargest(10000, \"market_cap_usd\")).reset_index(drop=True)\n",
    "print(\"Global 2023 mean market cap: \", global_data_2023_capped[\"market_cap_usd\"].mean())\n",
    "print(\"Global 2023 min market cap: \", global_data_2023_capped[\"market_cap_usd\"].min())\n",
    "print(\"Global 2023 mean bottom 10% market cap: \", global_data_2023_capped[\"market_cap_usd\"].quantile(0.05).mean())\n",
    "print(\"Unique gvkeys: \", len(global_data_2023_capped[\"gvkey\"].unique()))\n",
    "print(\"Unique gvkeys with >= 100 rows: \", global_data_2023_capped[\"gvkey\"].value_counts()[global_data_2023_capped[\"gvkey\"].value_counts() >= 100].shape[0])"
   ]
  },
  {
   "cell_type": "code",
   "execution_count": null,
   "metadata": {},
   "outputs": [],
   "source": [
    "market_cap_cutoff_quantile = 0.6"
   ]
  },
  {
   "cell_type": "code",
   "execution_count": null,
   "metadata": {},
   "outputs": [],
   "source": [
    "volume_usd_5_min = 1000000"
   ]
  },
  {
   "cell_type": "code",
   "execution_count": null,
   "metadata": {},
   "outputs": [],
   "source": [
    "print(\"NA 2023 mean market cap: \", na_data_2023[\"market_cap_usd\"].mean())\n",
    "print(\"NA 2023 min market cap: \", na_data_2023[\"market_cap_usd\"].min())\n",
    "print(\"NA 2023 mean bottom 10% market cap: \", na_data_2023[\"market_cap_usd\"].quantile(0.05).mean())\n",
    "print(\"Unique gvkeys: \", len(na_data_2023[\"gvkey\"].unique()))\n",
    "print(\"Unique gvkeys with >= 100 rows: \", na_data_2023[\"gvkey\"].value_counts()[na_data_2023[\"gvkey\"].value_counts() >= 100].shape[0])\n",
    "na_data_2023_capped = na_data_2023.groupby(\"date\").apply(lambda x: x[x[\"market_cap_usd\"] > x[\"market_cap_usd\"].quantile(market_cap_cutoff_quantile)]).reset_index(drop=True)\n",
    "na_data_2023_capped = na_data_2023_capped[na_data_2023_capped[\"volume_usd_5\"] > volume_usd_5_min]\n",
    "#na_global_data_2002_capped = na_global_data_2002.groupby(\"date\").apply(lambda x: x.nlargest(10000, \"market_cap_usd\")).reset_index(drop=True)\n",
    "print(\"NA 2023 mean market cap: \", na_data_2023_capped[\"market_cap_usd\"].mean())\n",
    "print(\"NA 2023 min market cap: \", na_data_2023_capped[\"market_cap_usd\"].min())\n",
    "print(\"NA 2023 mean bottom 10% market cap: \", na_data_2023_capped[\"market_cap_usd\"].quantile(0.05).mean())\n",
    "print(\"Unique gvkeys: \", len(na_data_2023_capped[\"gvkey\"].unique()))\n",
    "print(\"Unique gvkeys with >= 100 rows: \", na_data_2023_capped[\"gvkey\"].value_counts()[na_data_2023_capped[\"gvkey\"].value_counts() >= 100].shape[0])"
   ]
  },
  {
   "cell_type": "code",
   "execution_count": null,
   "metadata": {},
   "outputs": [],
   "source": [
    "#MERGE NA AND GLOBAL DATA\n",
    "na_data_2023_capped[\"date\"] = pd.to_datetime(na_data_2023_capped[\"date\"], format='%Y-%m-%d')\n",
    "global_data_2023_capped[\"date\"] = pd.to_datetime(global_data_2023_capped[\"date\"], format='%Y-%m-%d')\n",
    "merged_data = pd.merge(global_data_2023_capped, na_data_2023_capped[[\"date\", \"gvkey\", \"volume_usd_1\"]], on=['date', 'gvkey'], how='left', suffixes=('', '_na'))\n",
    "merged_data[\"volume_usd_1_na\"] = merged_data[\"volume_usd_1_na\"].fillna(0)\n",
    "\n",
    "merged_data['volume_usd_1'] = merged_data['volume_usd_1_na'] + merged_data['volume_usd_1']\n",
    "merged_data.drop(labels=\"volume_usd_1_na\", axis=\"columns\", inplace=True)\n",
    "\n",
    "na_global_data_2023_capped = pd.concat([merged_data, na_data_2023_capped], ignore_index=True)\n",
    "na_global_data_2023_capped.drop_duplicates([\"date\", \"gvkey\"], keep=\"first\", inplace=True)\n",
    "\n",
    "na_global_data_2023_capped.sort_values([\"date\", \"gvkey\"], inplace=True)"
   ]
  },
  {
   "cell_type": "code",
   "execution_count": null,
   "metadata": {},
   "outputs": [],
   "source": [
    "na_global_2023_n = na_global_data_2023.groupby(\"exchange_code\").apply(lambda x: x[\"gvkey\"].value_counts()[x[\"gvkey\"].value_counts() >= 100].shape[0])\n",
    "na_global_2023_market_cap_sum = na_global_data_2023.groupby(\"exchange_code\")[\"market_cap_usd\"].sum()\n",
    "na_global_2023_market_cap_mean = na_global_data_2023.groupby(\"exchange_code\")[\"market_cap_usd\"].mean()\n",
    "na_global_capped_2023_n = na_global_data_2023_capped.groupby(\"exchange_code\").apply(lambda x: x[\"gvkey\"].value_counts()[x[\"gvkey\"].value_counts() >= 100].shape[0])\n",
    "na_global_capped_2023_market_cap_sum = na_global_data_2023_capped.groupby(\"exchange_code\")[\"market_cap_usd\"].sum()\n",
    "na_global_capped_2023_market_cap_mean = na_global_data_2023_capped.groupby(\"exchange_code\")[\"market_cap_usd\"].mean()\n",
    "\n",
    "unique_gvkeys = pd.DataFrame({\"2023\": na_global_2023_n, \"capped_2023\": na_global_capped_2023_n,\n",
    "                              \"2023_market_cap_sum\": na_global_2023_market_cap_sum, \"2023_market_cap_mean\": na_global_2023_market_cap_mean,\n",
    "                              \"capped_2023_market_cap_sum\": na_global_capped_2023_market_cap_sum, \"capped_2023_market_cap_mean\": na_global_capped_2023_market_cap_mean})"
   ]
  },
  {
   "cell_type": "code",
   "execution_count": null,
   "metadata": {},
   "outputs": [],
   "source": [
    "exch_code_name = {\n",
    "    7: \"Toronto Stock Exchange (TSX)\",\n",
    "    9: \"TSX Venture Exchange (TSXV)\",\n",
    "    11: \"New York Stock Exchange (NYSE)\",\n",
    "    12: \"NYSE American (AMEX)\",\n",
    "    14: \"NASDAQ Stock Exchange\",\n",
    "    19: \"OTC Markets Group (OTC)\",\n",
    "    21: \"CBOE BZX\",\n",
    "    104: \"Euronext Amsterdam\",\n",
    "    106: \"Australian Exchange (ASX)\",\n",
    "    107: \"Athens Exchange (ATHEX)\",\n",
    "    115: \"Berlin Stock Exchange\",\n",
    "    120: \"Bombay Stock Exchange (BSE)\",\n",
    "    132: \"Euronext Brussels\",\n",
    "    134: \"Budapest Stock Exchange\",\n",
    "    144: \"Copenhagen Stock Exchange\",\n",
    "    150: \"Easdaq\",\n",
    "    151: \"Swiss Exchange (SIX/SWX)\",\n",
    "    154: \"Deutsche Börse\",\n",
    "    164: \"Bermuda Stock Exchange\",\n",
    "    167: \"NYSE Arca\",\n",
    "    170: \"Hong Kong Stock Exchange (HKEX)\",\n",
    "    171: \"Xetra (Deutsche Börse)\",\n",
    "    172: \"Irish Stock Exchange (ISE)\",\n",
    "    192: \"Lima Stock Exchange (BVL)\",\n",
    "    194: \"London Stock Exchange (LSE)\",\n",
    "    201: \"Madrid Stock Exchange (BME)\",\n",
    "    208: \"Mexican Stock Exchange (BMV)\",\n",
    "    209: \"Italian Stock Exchange\",\n",
    "    212: \"Moscow Stock Exchange (MOEX)\",\n",
    "    219: \"India Stock Exchange (NSE)\",\n",
    "    225: \"New Zealand Exchange (NZX)\",\n",
    "    228: \"Oslo Stock Exchange (OSE)\",\n",
    "    233: \"Stock Exchange of Mauritius (SEM)\",\n",
    "    245: \"Taipei Exchange (GTSM)\",\n",
    "    248: \"Korea Exchange (KRX)\",\n",
    "    249: \"Shanghai Stock Exchange (SSE)\",\n",
    "    250: \"Shenzhen Stock Exchange (SZSE)\",\n",
    "    251: \"Singapore Exchange (SGX)\",\n",
    "    256: \"Stockholm Stock Exchange\",\n",
    "    260: \"Taiwan Stock Exchange (TWSE)\",\n",
    "    264: \"Tokyo Stock Exchange (TSE)\",\n",
    "    273: \"Vienna Stock Exchange (WBAG)\",\n",
    "    278: \"Wellington\",\n",
    "    280: \"Zurich\",\n",
    "    286: \"Euronext Paris\",\n",
    "    293: \"Tokyo Stock Exchange JASDAQ\",\n",
    "    298: \"Korea Exchange KOSDAQ\",\n",
    "    343: \"National Stock Exchange of Australia\",\n",
    "    345: \"The International Stock Exchange\",\n",
    "    353: \"Bats Europe\"\n",
    "}"
   ]
  },
  {
   "cell_type": "code",
   "execution_count": null,
   "metadata": {},
   "outputs": [],
   "source": [
    "unique_gvkeys.index = unique_gvkeys.index.map(exch_code_name)"
   ]
  },
  {
   "cell_type": "code",
   "execution_count": null,
   "metadata": {},
   "outputs": [],
   "source": [
    "unique_gvkeys[\"2023_pct_rem\"] = ((unique_gvkeys[\"2023\"] - unique_gvkeys[\"capped_2023\"])/unique_gvkeys[\"2023\"])\n",
    "unique_gvkeys[\"2023_n_rem\"] = (unique_gvkeys[\"2023\"] - unique_gvkeys[\"capped_2023\"])\n",
    "unique_gvkeys[\"2023_pct_mc_rem\"] = ((unique_gvkeys[\"2023_market_cap_sum\"] - unique_gvkeys[\"capped_2023_market_cap_sum\"])/unique_gvkeys[\"2023_market_cap_sum\"])\n",
    "unique_gvkeys[\"2023_n_mc_rem\"] = ((unique_gvkeys[\"2023_market_cap_sum\"] - unique_gvkeys[\"capped_2023_market_cap_sum\"]))"
   ]
  },
  {
   "cell_type": "code",
   "execution_count": null,
   "metadata": {},
   "outputs": [],
   "source": [
    "unique_gvkeys_2023 = unique_gvkeys.sort_values(by=\"capped_2023\", ascending=False).head(25)\n",
    "\n",
    "unique_gvkeys_2023 = unique_gvkeys_2023.sort_values(by=\"capped_2023\", ascending=True)[[\"2023\", \"capped_2023\", \"2023_pct_rem\", \"2023_n_rem\"]].dropna()\n",
    "plt = unique_gvkeys_2023.sort_values(by=\"capped_2023\", ascending=True)[[\"2023\", \"capped_2023\"]].plot(kind=\"barh\", figsize=(10,20), grid=True)\n",
    "\n",
    "for i in range(len(unique_gvkeys_2023)):\n",
    "    plt.annotate(\"-\" + str((unique_gvkeys_2023[\"2023_pct_rem\"][i]*100).round(2)) + \"%\" + \", -\" + str((int(unique_gvkeys_2023[\"2023_n_rem\"][i]))) , (unique_gvkeys_2023[\"capped_2023\"][i] + 50, i+0.05), rotation=0, color='red', fontsize=12)\n",
    "plt.set_xlabel(\"Number of unique securities appearing in at least 100 days\", fontsize=14)\n",
    "plt.set_ylabel(\"\")\n",
    "plt.tick_params(axis='both', which='major', labelsize=12)\n",
    "\n",
    "plt.legend([\"Before market cap cutoff\", \"After market cap cutoff\"], bbox_to_anchor=(0.55, 0.0), loc='lower center', ncol=2, fontsize=12)\n",
    "#plt.figure.savefig(\"Exchanges2023N.pdf\", dpi=1000, bbox_inches='tight')"
   ]
  },
  {
   "cell_type": "code",
   "execution_count": null,
   "metadata": {},
   "outputs": [],
   "source": [
    "avg_daily_market_cap_per_exchange = na_global_data_2023.groupby([\"exchange_code\", \"date\"])[\"market_cap_usd\"].sum().reset_index()\n",
    "avg_daily_market_cap_per_exchange = avg_daily_market_cap_per_exchange.groupby(\"exchange_code\")[\"market_cap_usd\"].mean().reset_index()\n",
    "avg_daily_market_cap_per_exchange_capped = na_global_data_2023_capped.groupby([\"exchange_code\", \"date\"])[\"market_cap_usd\"].sum().reset_index()\n",
    "avg_daily_market_cap_per_exchange_capped = avg_daily_market_cap_per_exchange_capped.groupby(\"exchange_code\")[\"market_cap_usd\"].mean().reset_index()\n",
    "avg_daily_market_cap_per_exchange = avg_daily_market_cap_per_exchange.merge(avg_daily_market_cap_per_exchange_capped, on=\"exchange_code\", suffixes=(\"_uncapped\", \"_capped\"))\n",
    "avg_daily_market_cap_per_exchange[\"pct_rem\"] = ((avg_daily_market_cap_per_exchange[\"market_cap_usd_uncapped\"] - avg_daily_market_cap_per_exchange[\"market_cap_usd_capped\"])/avg_daily_market_cap_per_exchange[\"market_cap_usd_uncapped\"])\n",
    "avg_daily_market_cap_per_exchange[\"n_rem\"] = (avg_daily_market_cap_per_exchange[\"market_cap_usd_uncapped\"] - avg_daily_market_cap_per_exchange[\"market_cap_usd_capped\"])\n",
    "avg_daily_market_cap_per_exchange = avg_daily_market_cap_per_exchange.sort_values(by=\"market_cap_usd_uncapped\", ascending=True)\n",
    "\n",
    "avg_daily_market_cap_per_exchange = avg_daily_market_cap_per_exchange.sort_values(by=\"market_cap_usd_capped\", ascending=False).head(25)\n",
    "avg_daily_market_cap_per_exchange = avg_daily_market_cap_per_exchange.sort_values(by=\"market_cap_usd_capped\", ascending=True)\n",
    "\n",
    "plt = avg_daily_market_cap_per_exchange.sort_values(by=\"market_cap_usd_capped\", ascending=True)[[\"market_cap_usd_uncapped\", \"market_cap_usd_capped\"]].plot(kind=\"barh\", figsize=(10,20), grid=True)\n",
    "for i in range(len(avg_daily_market_cap_per_exchange)):\n",
    "    if avg_daily_market_cap_per_exchange[\"pct_rem\"][i] > 0:\n",
    "        plt.annotate(\"-\" + str((avg_daily_market_cap_per_exchange[\"pct_rem\"][i]*100).round(2)) + \"%\" + \", -$\" + str((\"{:,d}\".format(int(avg_daily_market_cap_per_exchange[\"n_rem\"][i]/1000000000)))) + \"B\" , (avg_daily_market_cap_per_exchange[\"market_cap_usd_capped\"][i] + 1*10**11, i+0.05), rotation=0, color='red', fontsize=12)\n",
    "    else:\n",
    "        plt.annotate(\"+\" + str((abs(avg_daily_market_cap_per_exchange[\"pct_rem\"][i]*100)).round(2)) + \"%\" + \", +$\" + str((\"{:,d}\".format(int(abs(avg_daily_market_cap_per_exchange[\"n_rem\"][i]/1000000000))))) + \"B\" , (avg_daily_market_cap_per_exchange[\"market_cap_usd_capped\"][i] + 1*10**11, i+0.05), rotation=0, color='red', fontsize=12)\n",
    "plt.set_xlabel(\"Total market cap (Billion USD)\", fontsize=14)\n",
    "plt.set_ylabel(\"\")\n",
    "plt.legend([\"Before market cap cutoff\", \"After market cap cutoff\"], bbox_to_anchor=(0.55, 0.0), loc='lower center', ncol=2, fontsize=12)\n",
    "\n",
    "plt.tick_params(axis='both', which='major', labelsize=12)\n",
    "\n",
    "plt.set_xlim(0, [avg_daily_market_cap_per_exchange[\"market_cap_usd_uncapped\"].max() + 5.9*10**12][0])\n",
    "plt.set_xticklabels([\"{:,d}\".format(int(x/1000000000)) for x in plt.get_xticks().tolist()])\n",
    "plt.figure.savefig(\"Exchanges2023MC.pdf\", dpi=1000, bbox_inches='tight')\n"
   ]
  },
  {
   "cell_type": "code",
   "execution_count": null,
   "metadata": {},
   "outputs": [],
   "source": [
    "avg_daily_market_cap_per_currency = na_global_data_2023.groupby([\"currency\", \"date\"])[\"market_cap_usd\"].sum().reset_index()\n",
    "avg_daily_market_cap_per_currency = avg_daily_market_cap_per_currency.groupby(\"currency\")[\"market_cap_usd\"].mean().reset_index()\n",
    "avg_daily_market_cap_per_currency_capped = na_global_data_2023_capped.groupby([\"currency\", \"date\"])[\"market_cap_usd\"].sum().reset_index()\n",
    "avg_daily_market_cap_per_currency_capped = avg_daily_market_cap_per_currency_capped.groupby(\"currency\")[\"market_cap_usd\"].mean().reset_index()\n",
    "avg_daily_market_cap_per_currency = avg_daily_market_cap_per_currency.merge(avg_daily_market_cap_per_currency_capped, on=\"currency\", suffixes=(\"_uncapped\", \"_capped\"))\n",
    "avg_daily_market_cap_per_currency[\"pct_rem\"] = ((avg_daily_market_cap_per_currency[\"market_cap_usd_uncapped\"] - avg_daily_market_cap_per_currency[\"market_cap_usd_capped\"])/avg_daily_market_cap_per_currency[\"market_cap_usd_uncapped\"])\n",
    "avg_daily_market_cap_per_currency[\"n_rem\"] = (avg_daily_market_cap_per_currency[\"market_cap_usd_uncapped\"] - avg_daily_market_cap_per_currency[\"market_cap_usd_capped\"])\n",
    "avg_daily_market_cap_per_currency = avg_daily_market_cap_per_currency.sort_values(by=\"market_cap_usd_uncapped\", ascending=True)\n",
    "\n",
    "avg_daily_market_cap_per_currency.index = avg_daily_market_cap_per_currency[\"currency\"]\n",
    "avg_daily_market_cap_per_currency = avg_daily_market_cap_per_currency.sort_values(by=\"market_cap_usd_capped\", ascending=True)\n",
    "\n",
    "plt = avg_daily_market_cap_per_currency.sort_values(by=\"market_cap_usd_capped\", ascending=True)[[\"market_cap_usd_uncapped\", \"market_cap_usd_capped\"]].plot(kind=\"barh\", figsize=(10,15), grid=True)\n",
    "for i in range(len(avg_daily_market_cap_per_currency)):\n",
    "    if avg_daily_market_cap_per_currency[\"pct_rem\"][i] > 0:\n",
    "        plt.annotate(\"-\" + str((avg_daily_market_cap_per_currency[\"pct_rem\"][i]*100).round(2)) + \"%\" + \", -$\" + str((\"{:,d}\".format(int(avg_daily_market_cap_per_currency[\"n_rem\"][i]/1000000000)))) + \"B\" , (avg_daily_market_cap_per_currency[\"market_cap_usd_capped\"][i] + 1*10**11, i+0.05), rotation=0, color='red', fontsize=12)\n",
    "    else:\n",
    "        plt.annotate(\"+\" + str((abs(avg_daily_market_cap_per_currency[\"pct_rem\"][i]*100)).round(2)) + \"%\" + \", +$\" + str((\"{:,d}\".format(int(abs(avg_daily_market_cap_per_currency[\"n_rem\"][i]/1000000000))))) + \"B\" , (avg_daily_market_cap_per_currency[\"market_cap_usd_capped\"][i] + 1*10**11, i+0.05), rotation=0, color='red', fontsize=12)\n",
    "plt.set_xlabel(\"Total market cap (Billion USD)\", fontsize=14)\n",
    "plt.set_ylabel(\"\")\n",
    "plt.legend([\"Before market cap cutoff\", \"After market cap cutoff\"], bbox_to_anchor=(0.55, 0.0), loc='lower center', ncol=2, fontsize=12)\n",
    "plt.set_xlim(0, [avg_daily_market_cap_per_currency[\"market_cap_usd_uncapped\"].max() + 9.7*10**12][0])\n",
    "\n",
    "plt.tick_params(axis='both', which='major', labelsize=12)\n",
    "plt.set_xticklabels([\"{:,d}\".format(int(x/1000000000)) for x in plt.get_xticks().tolist()])\n",
    "plt.figure.savefig(\"Currencies2023MC.pdf\", dpi=1000, bbox_inches='tight')"
   ]
  },
  {
   "cell_type": "code",
   "execution_count": null,
   "metadata": {},
   "outputs": [],
   "source": [
    "na_global_2023_n = na_global_data_2023.groupby(\"currency\").apply(lambda x: x[\"gvkey\"].value_counts()[x[\"gvkey\"].value_counts() >= 100].shape[0])\n",
    "na_global_2023_market_cap_sum = na_global_data_2023.groupby(\"currency\")[\"market_cap_usd\"].sum()\n",
    "na_global_2023_market_cap_mean = na_global_data_2023.groupby(\"currency\")[\"market_cap_usd\"].mean()\n",
    "na_global_capped_2023_n = na_global_data_2023_capped.groupby(\"currency\").apply(lambda x: x[\"gvkey\"].value_counts()[x[\"gvkey\"].value_counts() >= 100].shape[0])\n",
    "na_global_capped_2023_market_cap_sum = na_global_data_2023_capped.groupby(\"currency\")[\"market_cap_usd\"].sum()\n",
    "na_global_capped_2023_market_cap_mean = na_global_data_2023_capped.groupby(\"currency\")[\"market_cap_usd\"].mean()\n",
    "\n",
    "unique_gvkeys = pd.DataFrame({\"2023\": na_global_2023_n, \"capped_2023\": na_global_capped_2023_n, #\"2002\": na_global_2002_n, \"capped_2002\": na_global_capped_2002_n,\n",
    "                              \"2023_market_cap_sum\": na_global_2023_market_cap_sum, \"2023_market_cap_mean\": na_global_2023_market_cap_mean,\n",
    "                              \"capped_2023_market_cap_sum\": na_global_capped_2023_market_cap_sum, \"capped_2023_market_cap_mean\": na_global_capped_2023_market_cap_mean})"
   ]
  },
  {
   "cell_type": "code",
   "execution_count": null,
   "metadata": {},
   "outputs": [],
   "source": [
    "unique_gvkeys[\"2023_pct_rem\"] = ((unique_gvkeys[\"2023\"] - unique_gvkeys[\"capped_2023\"])/unique_gvkeys[\"2023\"])\n",
    "unique_gvkeys[\"2023_n_rem\"] = (unique_gvkeys[\"2023\"] - unique_gvkeys[\"capped_2023\"])\n",
    "unique_gvkeys[\"2023_pct_mc_rem\"] = ((unique_gvkeys[\"2023_market_cap_sum\"] - unique_gvkeys[\"capped_2023_market_cap_sum\"])/unique_gvkeys[\"2023_market_cap_sum\"])\n",
    "unique_gvkeys[\"2023_n_mc_rem\"] = ((unique_gvkeys[\"2023_market_cap_sum\"] - unique_gvkeys[\"capped_2023_market_cap_sum\"]))"
   ]
  },
  {
   "cell_type": "code",
   "execution_count": null,
   "metadata": {},
   "outputs": [],
   "source": [
    "unique_gvkeys_2023 = unique_gvkeys.sort_values(by=\"capped_2023\", ascending=True)[[\"2023\", \"capped_2023\", \"2023_pct_rem\", \"2023_n_rem\"]].dropna()\n",
    "plt = unique_gvkeys_2023.sort_values(by=\"capped_2023\", ascending=True)[[\"2023\", \"capped_2023\"]].plot(kind=\"barh\", figsize=(10,15), grid=True)\n",
    "\n",
    "for i in range(len(unique_gvkeys_2023)):\n",
    "    plt.annotate(\"-\" + str((unique_gvkeys_2023[\"2023_pct_rem\"][i]*100).round(2)) + \"%\" + \", -\" + str((int(unique_gvkeys_2023[\"2023_n_rem\"][i]))) , (unique_gvkeys_2023[\"capped_2023\"][i] + 50, i+0.05), rotation=0, color='red', fontsize=12)\n",
    "plt.set_xlabel(\"Number of unique securities appearing in at least 100 days\", fontsize=14)\n",
    "plt.set_ylabel(\"\")\n",
    "plt.tick_params(axis='both', which='major', labelsize=12)\n",
    "plt.legend([\"Before market cap cutoff\", \"After market cap cutoff\"], bbox_to_anchor=(0.55, 0.0), loc='lower center', ncol=2, fontsize=12)\n",
    "plt.figure.savefig(\"Currencies2023N.pdf\", dpi=1000, bbox_inches='tight')"
   ]
  }
 ],
 "metadata": {
  "kernelspec": {
   "display_name": "Python 3",
   "language": "python",
   "name": "python3"
  },
  "language_info": {
   "codemirror_mode": {
    "name": "ipython",
    "version": 3
   },
   "file_extension": ".py",
   "mimetype": "text/x-python",
   "name": "python",
   "nbconvert_exporter": "python",
   "pygments_lexer": "ipython3",
   "version": "3.11.5"
  },
  "orig_nbformat": 4
 },
 "nbformat": 4,
 "nbformat_minor": 2
}
