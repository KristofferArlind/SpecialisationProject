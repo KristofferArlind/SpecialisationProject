{
 "cells": [
  {
   "cell_type": "code",
   "execution_count": null,
   "metadata": {},
   "outputs": [],
   "source": [
    "import pandas as pd\n",
    "import numpy as np"
   ]
  },
  {
   "cell_type": "code",
   "execution_count": null,
   "metadata": {},
   "outputs": [],
   "source": [
    "\n",
    "#FORMAT DATA TO COLUMNS=CURRENCIES, ROWS=DATES\n",
    "pd.set_option('display.max_columns', None)\n",
    "forex_data = pd.read_csv('data/FRB_H10.csv')\n",
    "forex_data.columns = forex_data.iloc[2]\n",
    "forex_data = forex_data[6:]\n",
    "forex_data.rename(columns={\"Currency:\": \"date\"}, inplace=True)\n",
    "forex_data.reset_index(drop=True, inplace=True)\n",
    "forex_data.iloc[:, 1:] = forex_data.iloc[:, 1:].apply(pd.to_numeric, errors='coerce')\n",
    "forex_data\n"
   ]
  },
  {
   "cell_type": "code",
   "execution_count": null,
   "metadata": {},
   "outputs": [],
   "source": [
    "#AUD, EUR, NZD AND GBP ARE INVERTED IN COMPARISON WITH THE OTHER CURRENCIES:\n",
    "forex_data.iloc[:,1] = 1/forex_data.iloc[:,1]\n",
    "forex_data.iloc[:,2] = 1/forex_data.iloc[:,2]\n",
    "forex_data.iloc[:,3] = 1/forex_data.iloc[:,3]\n",
    "forex_data.iloc[:,4] = 1/forex_data.iloc[:,4]\n"
   ]
  },
  {
   "cell_type": "code",
   "execution_count": null,
   "metadata": {},
   "outputs": [],
   "source": [
    "forex_data.columns = [\"date\", \"AUD\", \"EUR\", \"NZD\", \"GBP\", \"BRL\", \"CAD\", \"CNY\", \"DKK\", \"HKD\", \"INR\", \"JPY\", \"MYR\", \"MXN\", \"NOK\", \"ZAR\", \"SGD\", \"KRW\", \"LKR\", \"SEK\", \"CHF\", \"TWD\", \"THB\", \"VEB\"]"
   ]
  },
  {
   "cell_type": "code",
   "execution_count": null,
   "metadata": {},
   "outputs": [],
   "source": [
    "#FILL NA WITH PREVIOUS VALUE\n",
    "forex_data = forex_data.fillna(method='ffill')"
   ]
  },
  {
   "cell_type": "code",
   "execution_count": null,
   "metadata": {},
   "outputs": [],
   "source": [
    "forex_data.to_csv('data/forex_data.csv', index=False)"
   ]
  }
 ],
 "metadata": {
  "kernelspec": {
   "display_name": "base",
   "language": "python",
   "name": "python3"
  },
  "language_info": {
   "codemirror_mode": {
    "name": "ipython",
    "version": 3
   },
   "file_extension": ".py",
   "mimetype": "text/x-python",
   "name": "python",
   "nbconvert_exporter": "python",
   "pygments_lexer": "ipython3",
   "version": "3.11.5"
  },
  "orig_nbformat": 4
 },
 "nbformat": 4,
 "nbformat_minor": 2
}
